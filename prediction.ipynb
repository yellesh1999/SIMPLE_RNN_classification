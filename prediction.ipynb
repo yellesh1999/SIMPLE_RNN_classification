{
 "cells": [
  {
   "cell_type": "code",
   "execution_count": 1,
   "id": "f96dbf92",
   "metadata": {},
   "outputs": [],
   "source": [
    "import numpy as np\n",
    "import pandas as pd\n",
    "import tensorflow as tf\n",
    "from tensorflow.keras.datasets import imdb\n",
    "from tensorflow.keras.preprocessing import sequence\n",
    "from tensorflow.keras.models import load_model\n"
   ]
  },
  {
   "cell_type": "code",
   "execution_count": 2,
   "id": "babb1ca3",
   "metadata": {},
   "outputs": [],
   "source": [
    "word_index = imdb.get_word_index()\n",
    "reverse_word_index = {value:key for key,value in word_index.items()}"
   ]
  },
  {
   "cell_type": "code",
   "execution_count": 4,
   "id": "14cfbfcb",
   "metadata": {},
   "outputs": [
    {
     "data": {
      "text/html": [
       "<pre style=\"white-space:pre;overflow-x:auto;line-height:normal;font-family:Menlo,'DejaVu Sans Mono',consolas,'Courier New',monospace\"><span style=\"font-weight: bold\">Model: \"sequential_14\"</span>\n",
       "</pre>\n"
      ],
      "text/plain": [
       "\u001b[1mModel: \"sequential_14\"\u001b[0m\n"
      ]
     },
     "metadata": {},
     "output_type": "display_data"
    },
    {
     "data": {
      "text/html": [
       "<pre style=\"white-space:pre;overflow-x:auto;line-height:normal;font-family:Menlo,'DejaVu Sans Mono',consolas,'Courier New',monospace\">┏━━━━━━━━━━━━━━━━━━━━━━━━━━━━━━━━━┳━━━━━━━━━━━━━━━━━━━━━━━━┳━━━━━━━━━━━━━━━┓\n",
       "┃<span style=\"font-weight: bold\"> Layer (type)                    </span>┃<span style=\"font-weight: bold\"> Output Shape           </span>┃<span style=\"font-weight: bold\">       Param # </span>┃\n",
       "┡━━━━━━━━━━━━━━━━━━━━━━━━━━━━━━━━━╇━━━━━━━━━━━━━━━━━━━━━━━━╇━━━━━━━━━━━━━━━┩\n",
       "│ embedding_10 (<span style=\"color: #0087ff; text-decoration-color: #0087ff\">Embedding</span>)        │ (<span style=\"color: #00d7ff; text-decoration-color: #00d7ff\">None</span>, <span style=\"color: #00af00; text-decoration-color: #00af00\">500</span>, <span style=\"color: #00af00; text-decoration-color: #00af00\">128</span>)       │     <span style=\"color: #00af00; text-decoration-color: #00af00\">1,280,000</span> │\n",
       "├─────────────────────────────────┼────────────────────────┼───────────────┤\n",
       "│ simple_rnn_10 (<span style=\"color: #0087ff; text-decoration-color: #0087ff\">SimpleRNN</span>)       │ (<span style=\"color: #00d7ff; text-decoration-color: #00d7ff\">None</span>, <span style=\"color: #00af00; text-decoration-color: #00af00\">128</span>)            │        <span style=\"color: #00af00; text-decoration-color: #00af00\">32,896</span> │\n",
       "├─────────────────────────────────┼────────────────────────┼───────────────┤\n",
       "│ dense_10 (<span style=\"color: #0087ff; text-decoration-color: #0087ff\">Dense</span>)                │ (<span style=\"color: #00d7ff; text-decoration-color: #00d7ff\">None</span>, <span style=\"color: #00af00; text-decoration-color: #00af00\">1</span>)              │           <span style=\"color: #00af00; text-decoration-color: #00af00\">129</span> │\n",
       "└─────────────────────────────────┴────────────────────────┴───────────────┘\n",
       "</pre>\n"
      ],
      "text/plain": [
       "┏━━━━━━━━━━━━━━━━━━━━━━━━━━━━━━━━━┳━━━━━━━━━━━━━━━━━━━━━━━━┳━━━━━━━━━━━━━━━┓\n",
       "┃\u001b[1m \u001b[0m\u001b[1mLayer (type)                   \u001b[0m\u001b[1m \u001b[0m┃\u001b[1m \u001b[0m\u001b[1mOutput Shape          \u001b[0m\u001b[1m \u001b[0m┃\u001b[1m \u001b[0m\u001b[1m      Param #\u001b[0m\u001b[1m \u001b[0m┃\n",
       "┡━━━━━━━━━━━━━━━━━━━━━━━━━━━━━━━━━╇━━━━━━━━━━━━━━━━━━━━━━━━╇━━━━━━━━━━━━━━━┩\n",
       "│ embedding_10 (\u001b[38;5;33mEmbedding\u001b[0m)        │ (\u001b[38;5;45mNone\u001b[0m, \u001b[38;5;34m500\u001b[0m, \u001b[38;5;34m128\u001b[0m)       │     \u001b[38;5;34m1,280,000\u001b[0m │\n",
       "├─────────────────────────────────┼────────────────────────┼───────────────┤\n",
       "│ simple_rnn_10 (\u001b[38;5;33mSimpleRNN\u001b[0m)       │ (\u001b[38;5;45mNone\u001b[0m, \u001b[38;5;34m128\u001b[0m)            │        \u001b[38;5;34m32,896\u001b[0m │\n",
       "├─────────────────────────────────┼────────────────────────┼───────────────┤\n",
       "│ dense_10 (\u001b[38;5;33mDense\u001b[0m)                │ (\u001b[38;5;45mNone\u001b[0m, \u001b[38;5;34m1\u001b[0m)              │           \u001b[38;5;34m129\u001b[0m │\n",
       "└─────────────────────────────────┴────────────────────────┴───────────────┘\n"
      ]
     },
     "metadata": {},
     "output_type": "display_data"
    },
    {
     "data": {
      "text/html": [
       "<pre style=\"white-space:pre;overflow-x:auto;line-height:normal;font-family:Menlo,'DejaVu Sans Mono',consolas,'Courier New',monospace\"><span style=\"font-weight: bold\"> Total params: </span><span style=\"color: #00af00; text-decoration-color: #00af00\">3,939,077</span> (15.03 MB)\n",
       "</pre>\n"
      ],
      "text/plain": [
       "\u001b[1m Total params: \u001b[0m\u001b[38;5;34m3,939,077\u001b[0m (15.03 MB)\n"
      ]
     },
     "metadata": {},
     "output_type": "display_data"
    },
    {
     "data": {
      "text/html": [
       "<pre style=\"white-space:pre;overflow-x:auto;line-height:normal;font-family:Menlo,'DejaVu Sans Mono',consolas,'Courier New',monospace\"><span style=\"font-weight: bold\"> Trainable params: </span><span style=\"color: #00af00; text-decoration-color: #00af00\">1,313,025</span> (5.01 MB)\n",
       "</pre>\n"
      ],
      "text/plain": [
       "\u001b[1m Trainable params: \u001b[0m\u001b[38;5;34m1,313,025\u001b[0m (5.01 MB)\n"
      ]
     },
     "metadata": {},
     "output_type": "display_data"
    },
    {
     "data": {
      "text/html": [
       "<pre style=\"white-space:pre;overflow-x:auto;line-height:normal;font-family:Menlo,'DejaVu Sans Mono',consolas,'Courier New',monospace\"><span style=\"font-weight: bold\"> Non-trainable params: </span><span style=\"color: #00af00; text-decoration-color: #00af00\">0</span> (0.00 B)\n",
       "</pre>\n"
      ],
      "text/plain": [
       "\u001b[1m Non-trainable params: \u001b[0m\u001b[38;5;34m0\u001b[0m (0.00 B)\n"
      ]
     },
     "metadata": {},
     "output_type": "display_data"
    },
    {
     "data": {
      "text/html": [
       "<pre style=\"white-space:pre;overflow-x:auto;line-height:normal;font-family:Menlo,'DejaVu Sans Mono',consolas,'Courier New',monospace\"><span style=\"font-weight: bold\"> Optimizer params: </span><span style=\"color: #00af00; text-decoration-color: #00af00\">2,626,052</span> (10.02 MB)\n",
       "</pre>\n"
      ],
      "text/plain": [
       "\u001b[1m Optimizer params: \u001b[0m\u001b[38;5;34m2,626,052\u001b[0m (10.02 MB)\n"
      ]
     },
     "metadata": {},
     "output_type": "display_data"
    }
   ],
   "source": [
    "model = load_model('simple_rnn_IMDB.keras')\n",
    "model.summary()"
   ]
  },
  {
   "cell_type": "code",
   "execution_count": 6,
   "id": "ae9662fc",
   "metadata": {},
   "outputs": [
    {
     "data": {
      "text/plain": [
       "[array([[-1.0294547 , -0.9458935 ,  0.77391756, ...,  0.95880795,\n",
       "          0.82126564, -0.64233214],\n",
       "        [-0.06333314, -0.04365125, -0.03242914, ...,  0.06764038,\n",
       "          0.10510268,  0.05326755],\n",
       "        [-0.22480218, -0.20359828,  0.08119843, ...,  0.25025272,\n",
       "          0.04019998, -0.02774063],\n",
       "        ...,\n",
       "        [-0.037135  , -0.02475655,  0.05914198, ...,  0.01773679,\n",
       "          0.0298215 , -0.02391347],\n",
       "        [ 0.06207174,  0.00949265, -0.04583402, ..., -0.06784566,\n",
       "          0.01339407, -0.01332508],\n",
       "        [-0.01379408, -0.07923248, -0.02733713, ...,  0.03285336,\n",
       "         -0.06009622, -0.01229403]], dtype=float32),\n",
       " array([[ 0.1578019 , -0.09660317, -0.10934707, ...,  0.06433714,\n",
       "          0.0433837 , -0.09014621],\n",
       "        [ 0.15218009, -0.08791258,  0.03860146, ...,  0.08574402,\n",
       "          0.0310182 , -0.16448373],\n",
       "        [ 0.02147722,  0.09899072,  0.01248393, ...,  0.13663481,\n",
       "          0.01167811,  0.09695525],\n",
       "        ...,\n",
       "        [-0.13327752,  0.18826637,  0.02508437, ..., -0.1374209 ,\n",
       "          0.08744595,  0.07280882],\n",
       "        [-0.06513465, -0.062496  , -0.13583398, ...,  0.03714434,\n",
       "          0.00160743, -0.06193038],\n",
       "        [ 0.12436825, -0.14357181, -0.13883659, ...,  0.05627906,\n",
       "          0.14393961,  0.09441929]], dtype=float32),\n",
       " array([[ 0.0074491 ,  0.03509422,  0.06201272, ..., -0.15464784,\n",
       "         -0.01242123,  0.10110154],\n",
       "        [-0.19279572,  0.05738848, -0.04672813, ...,  0.12825245,\n",
       "          0.07916703,  0.05393306],\n",
       "        [ 0.08375245,  0.05770699, -0.02883672, ...,  0.06650718,\n",
       "         -0.02778923, -0.05312894],\n",
       "        ...,\n",
       "        [-0.03908659,  0.08685987, -0.16634911, ..., -0.15682513,\n",
       "         -0.23238765,  0.0343875 ],\n",
       "        [-0.10830212, -0.01320007, -0.00739184, ...,  0.02992725,\n",
       "         -0.08936876,  0.20391396],\n",
       "        [-0.03160222,  0.05506805,  0.148808  , ..., -0.120059  ,\n",
       "         -0.07625677, -0.01063371]], dtype=float32),\n",
       " array([ 0.02140861, -0.02763238, -0.03752361,  0.02805454, -0.0006149 ,\n",
       "         0.04729616, -0.04429761, -0.01861278, -0.03353484, -0.02307492,\n",
       "        -0.04574553, -0.01021443,  0.00042492,  0.00707603, -0.01543521,\n",
       "         0.06415067, -0.05097675,  0.08205602, -0.01428349, -0.02999876,\n",
       "         0.02063884, -0.04186081, -0.05749829, -0.02819095, -0.00182731,\n",
       "        -0.01840281, -0.04672942,  0.03138273, -0.05577873, -0.01572363,\n",
       "        -0.02381605, -0.0450136 , -0.02229302,  0.01198058, -0.06651311,\n",
       "        -0.00837128,  0.00428085, -0.05249611, -0.07667156, -0.04409245,\n",
       "        -0.01215644, -0.01206286, -0.05078626, -0.01619985, -0.00789155,\n",
       "        -0.00420166, -0.00634931, -0.00659542, -0.01336881,  0.04774761,\n",
       "        -0.0319687 , -0.02371643,  0.00315199,  0.23459707, -0.01117166,\n",
       "        -0.02334049, -0.01343912, -0.05437636,  0.02861023,  0.0035228 ,\n",
       "        -0.00940277, -0.02068957, -0.04417498, -0.05545831, -0.04625378,\n",
       "        -0.02530771, -0.07461451, -0.03747376, -0.00292669, -0.0153704 ,\n",
       "         0.21091759, -0.04088229, -0.05165355, -0.03201925, -0.04625316,\n",
       "        -0.03128503, -0.03383767, -0.0103871 , -0.05529205, -0.02233374,\n",
       "        -0.02548749, -0.04629044, -0.06931967, -0.05812629, -0.04366104,\n",
       "        -0.05536653, -0.03463027, -0.00606027,  0.01649437, -0.01219756,\n",
       "        -0.03592493,  0.01199545, -0.04367936, -0.03399707,  0.01949609,\n",
       "        -0.06705587, -0.03180996, -0.02025233, -0.01376696, -0.03064844,\n",
       "        -0.02522317, -0.01506409, -0.01154091,  0.03029954, -0.00358713,\n",
       "        -0.01979131, -0.01505638, -0.00156977, -0.03867121, -0.01757451,\n",
       "        -0.03235266, -0.03073096, -0.02580688,  0.00995417, -0.00558797,\n",
       "         0.09737591, -0.04212769, -0.05645002,  0.05796278,  0.02486812,\n",
       "         0.01115307, -0.03599539,  0.03818107,  0.01862674, -0.03096351,\n",
       "        -0.04753153, -0.05024722, -0.0587278 ], dtype=float32),\n",
       " array([[-0.19200166],\n",
       "        [ 0.1391734 ],\n",
       "        [-0.09820557],\n",
       "        [-0.1910242 ],\n",
       "        [ 0.03088608],\n",
       "        [-0.60058975],\n",
       "        [-0.06369954],\n",
       "        [-0.02892601],\n",
       "        [-0.00962649],\n",
       "        [-0.56451136],\n",
       "        [-0.02884272],\n",
       "        [ 0.10807472],\n",
       "        [-0.229333  ],\n",
       "        [-0.21052596],\n",
       "        [ 0.08813128],\n",
       "        [-0.08869176],\n",
       "        [ 0.00318366],\n",
       "        [-0.10820253],\n",
       "        [ 0.16216117],\n",
       "        [-0.1823987 ],\n",
       "        [-0.04259717],\n",
       "        [ 0.02877296],\n",
       "        [ 0.18543991],\n",
       "        [ 0.14338541],\n",
       "        [-0.226218  ],\n",
       "        [-0.00117709],\n",
       "        [-0.093896  ],\n",
       "        [-0.21905394],\n",
       "        [ 0.060635  ],\n",
       "        [-0.29615843],\n",
       "        [-0.03150253],\n",
       "        [ 0.08886295],\n",
       "        [-0.06142928],\n",
       "        [-0.1372681 ],\n",
       "        [ 0.02810283],\n",
       "        [-0.10641888],\n",
       "        [-0.21352576],\n",
       "        [ 0.02934443],\n",
       "        [ 0.18521278],\n",
       "        [ 0.09106411],\n",
       "        [-0.11809812],\n",
       "        [ 0.08590202],\n",
       "        [ 0.13392004],\n",
       "        [ 0.11092262],\n",
       "        [-0.19472963],\n",
       "        [ 0.1793958 ],\n",
       "        [-0.1763863 ],\n",
       "        [-0.47733182],\n",
       "        [-0.00460047],\n",
       "        [-0.29780802],\n",
       "        [-0.10241637],\n",
       "        [ 0.07041519],\n",
       "        [-0.15195422],\n",
       "        [-0.35650986],\n",
       "        [-0.01235335],\n",
       "        [ 0.13076212],\n",
       "        [-0.09434563],\n",
       "        [-0.21525289],\n",
       "        [-0.08870336],\n",
       "        [ 0.01202701],\n",
       "        [ 0.06260162],\n",
       "        [-0.15408301],\n",
       "        [-0.26418748],\n",
       "        [-0.00110101],\n",
       "        [ 0.0720983 ],\n",
       "        [ 0.21627279],\n",
       "        [ 0.01246831],\n",
       "        [ 0.14856528],\n",
       "        [-0.08175468],\n",
       "        [ 0.05194015],\n",
       "        [-0.26785815],\n",
       "        [-0.1919404 ],\n",
       "        [-0.11976618],\n",
       "        [-0.00228201],\n",
       "        [-0.1013189 ],\n",
       "        [ 0.05523873],\n",
       "        [ 0.12377787],\n",
       "        [-0.10706109],\n",
       "        [ 0.19222239],\n",
       "        [ 0.04296363],\n",
       "        [-0.07321589],\n",
       "        [ 0.06326455],\n",
       "        [-0.21701881],\n",
       "        [ 0.06680079],\n",
       "        [-0.0028399 ],\n",
       "        [-0.07357365],\n",
       "        [ 0.254786  ],\n",
       "        [-0.17176493],\n",
       "        [-0.20666398],\n",
       "        [-0.0796219 ],\n",
       "        [-0.0163306 ],\n",
       "        [-0.12670274],\n",
       "        [ 0.0477818 ],\n",
       "        [-0.00819465],\n",
       "        [-0.2857086 ],\n",
       "        [-0.01366311],\n",
       "        [-0.01225192],\n",
       "        [ 0.11780051],\n",
       "        [-0.469849  ],\n",
       "        [-0.11890364],\n",
       "        [ 0.10229535],\n",
       "        [-0.0909511 ],\n",
       "        [-0.1931382 ],\n",
       "        [-0.20081832],\n",
       "        [-0.28470308],\n",
       "        [-0.0763716 ],\n",
       "        [ 0.24003376],\n",
       "        [ 0.20714761],\n",
       "        [ 0.3087198 ],\n",
       "        [-0.11020306],\n",
       "        [ 0.02363332],\n",
       "        [-0.04165321],\n",
       "        [ 0.1915568 ],\n",
       "        [-0.02762141],\n",
       "        [-0.1439313 ],\n",
       "        [-0.29136923],\n",
       "        [ 0.05695144],\n",
       "        [-0.16084033],\n",
       "        [-0.23514816],\n",
       "        [ 0.29249722],\n",
       "        [-0.19679084],\n",
       "        [-0.04010835],\n",
       "        [ 0.00130486],\n",
       "        [-0.00503141],\n",
       "        [-0.25713208],\n",
       "        [ 0.19394976],\n",
       "        [ 0.17292847],\n",
       "        [-0.08992135]], dtype=float32),\n",
       " array([-0.11851008], dtype=float32)]"
      ]
     },
     "execution_count": 6,
     "metadata": {},
     "output_type": "execute_result"
    }
   ],
   "source": [
    "model.get_weights()"
   ]
  },
  {
   "cell_type": "code",
   "execution_count": 8,
   "id": "6710ab03",
   "metadata": {},
   "outputs": [],
   "source": [
    "# helper functions\n",
    "def decode_review(encoded_review):\n",
    "    return ' '.join([reverse_word_index.get(i - 3,'?') for i in encoded_review])\n",
    "\n",
    "# function to preprocess user input\n",
    "def preprocess_text(text):\n",
    "    words = text.lower().split()\n",
    "    encoded_review = [word_index.get(word,2)+3 for word in words]\n",
    "    padded_review=sequence.pad_sequences([encoded_review],maxlen=500)\n",
    "    return padded_review"
   ]
  },
  {
   "cell_type": "code",
   "execution_count": 9,
   "id": "1cbe3e4d",
   "metadata": {},
   "outputs": [],
   "source": [
    "## prediction function\n",
    "def predict_sentiment(review):\n",
    "    preprocessed_input=preprocess_text(review)\n",
    "\n",
    "    prediction=model.predict(preprocessed_input)\n",
    "\n",
    "    sentiment = 'positive' if prediction[0][0] > 0.5 else 'negtive'\n",
    "\n",
    "    return sentiment,prediction[0][0]\n"
   ]
  },
  {
   "cell_type": "code",
   "execution_count": 10,
   "id": "9b490035",
   "metadata": {},
   "outputs": [
    {
     "name": "stdout",
     "output_type": "stream",
     "text": [
      "\u001b[1m1/1\u001b[0m \u001b[32m━━━━━━━━━━━━━━━━━━━━\u001b[0m\u001b[37m\u001b[0m \u001b[1m0s\u001b[0m 232ms/step\n",
      "Review: This movie was fantastic! The acting was great and the plot was thrilling\n",
      "sentiment: positive\n",
      "score: 0.9298070669174194\n"
     ]
    }
   ],
   "source": [
    "example_review = 'This movie was fantastic! The acting was great and the plot was thrilling'\n",
    "\n",
    "sentiment,score=predict_sentiment(example_review)\n",
    "\n",
    "print(f'Review: {example_review}')\n",
    "print(f'sentiment: {sentiment}')\n",
    "print(f'score: {score}')"
   ]
  },
  {
   "cell_type": "code",
   "execution_count": null,
   "id": "7288a4a0",
   "metadata": {},
   "outputs": [],
   "source": []
  }
 ],
 "metadata": {
  "kernelspec": {
   "display_name": "rnn_venv",
   "language": "python",
   "name": "python3"
  },
  "language_info": {
   "codemirror_mode": {
    "name": "ipython",
    "version": 3
   },
   "file_extension": ".py",
   "mimetype": "text/x-python",
   "name": "python",
   "nbconvert_exporter": "python",
   "pygments_lexer": "ipython3",
   "version": "3.11.9"
  }
 },
 "nbformat": 4,
 "nbformat_minor": 5
}
